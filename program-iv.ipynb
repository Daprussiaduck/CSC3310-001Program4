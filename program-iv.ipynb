{
 "cells": [
  {
   "cell_type": "markdown",
   "source": [
    "Patrick Marshall and Harry Kubiak\n",
    "\n",
    "Algorithms and Advanced Data Structures\n",
    "\n",
    "Program IV - Benchmarking Heaps\n",
    "\n",
    "29 March 2024"
   ],
   "metadata": {
    "collapsed": false
   },
   "id": "22d12b8b8b83ccd3"
  },
  {
   "cell_type": "code",
   "outputs": [],
   "source": [
    "# Imports\n",
    "import heapq\n",
    "import pandas as pd\n",
    "import numpy as np\n",
    "import random"
   ],
   "metadata": {
    "collapsed": false,
    "ExecuteTime": {
     "end_time": "2024-03-29T14:37:59.043294Z",
     "start_time": "2024-03-29T14:37:58.715840300Z"
    }
   },
   "id": "73e71f6d182e6fe",
   "execution_count": 1
  },
  {
   "cell_type": "code",
   "outputs": [],
   "source": [
    "def sorted_data(n):\n",
    "    return np.arange(n)"
   ],
   "metadata": {
    "collapsed": false,
    "ExecuteTime": {
     "end_time": "2024-03-29T14:38:01.209943100Z",
     "start_time": "2024-03-29T14:38:01.190770400Z"
    }
   },
   "id": "70f3ec869412cfdb",
   "execution_count": 2
  },
  {
   "cell_type": "code",
   "outputs": [],
   "source": [
    "def random_data(n):\n",
    "    data = np.array([random.randint(0,100) for i in range(n)])\n",
    "    return data"
   ],
   "metadata": {
    "collapsed": false,
    "ExecuteTime": {
     "end_time": "2024-03-29T14:38:06.858052900Z",
     "start_time": "2024-03-29T14:38:06.840815800Z"
    }
   },
   "id": "6d4dc5af10f65053",
   "execution_count": 3
  },
  {
   "cell_type": "code",
   "outputs": [],
   "source": [
    "def reverse_data(n):\n",
    "    return np.flip(np.arange(n))"
   ],
   "metadata": {
    "collapsed": false,
    "ExecuteTime": {
     "end_time": "2024-03-29T14:38:14.616818400Z",
     "start_time": "2024-03-29T14:38:14.599812700Z"
    }
   },
   "id": "6610a51b1d5ff9e7",
   "execution_count": 4
  }
 ],
 "metadata": {
  "kernelspec": {
   "display_name": "Python 3",
   "language": "python",
   "name": "python3"
  },
  "language_info": {
   "codemirror_mode": {
    "name": "ipython",
    "version": 2
   },
   "file_extension": ".py",
   "mimetype": "text/x-python",
   "name": "python",
   "nbconvert_exporter": "python",
   "pygments_lexer": "ipython2",
   "version": "2.7.6"
  }
 },
 "nbformat": 4,
 "nbformat_minor": 5
}
