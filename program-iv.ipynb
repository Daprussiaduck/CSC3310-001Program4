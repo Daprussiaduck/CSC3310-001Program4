{
 "cells": [
  {
   "cell_type": "markdown",
   "id": "22d12b8b8b83ccd3",
   "metadata": {
    "collapsed": false
   },
   "source": [
    "Patrick Marshall and Harry Kubiak\n",
    "\n",
    "Algorithms and Advanced Data Structures\n",
    "\n",
    "Program IV - Benchmarking Heaps\n",
    "\n",
    "29 March 2024"
   ]
  },
  {
   "cell_type": "code",
   "execution_count": 1,
   "id": "73e71f6d182e6fe",
   "metadata": {
    "ExecuteTime": {
     "end_time": "2024-03-29T14:37:59.043294Z",
     "start_time": "2024-03-29T14:37:58.715840300Z"
    },
    "collapsed": false
   },
   "outputs": [],
   "source": [
    "# Imports\n",
    "from math import floor\n",
    "import numpy as np\n",
    "import random\n",
    "import heapq"
   ]
  },
  {
   "cell_type": "code",
   "execution_count": 2,
   "id": "70f3ec869412cfdb",
   "metadata": {
    "ExecuteTime": {
     "end_time": "2024-03-29T14:38:01.209943100Z",
     "start_time": "2024-03-29T14:38:01.190770400Z"
    },
    "collapsed": false
   },
   "outputs": [],
   "source": [
    "def sorted_data(n):\n",
    "    return np.arange(n)"
   ]
  },
  {
   "cell_type": "code",
   "execution_count": 3,
   "id": "6d4dc5af10f65053",
   "metadata": {
    "ExecuteTime": {
     "end_time": "2024-03-29T14:38:06.858052900Z",
     "start_time": "2024-03-29T14:38:06.840815800Z"
    },
    "collapsed": false
   },
   "outputs": [],
   "source": [
    "def random_data(n):\n",
    "    data = np.array([random.randint(0,100) for i in range(n)])\n",
    "    return data"
   ]
  },
  {
   "cell_type": "code",
   "execution_count": 4,
   "id": "6610a51b1d5ff9e7",
   "metadata": {
    "ExecuteTime": {
     "end_time": "2024-03-29T14:38:14.616818400Z",
     "start_time": "2024-03-29T14:38:14.599812700Z"
    },
    "collapsed": false
   },
   "outputs": [],
   "source": [
    "def reverse_data(n):\n",
    "    return np.flip(np.arange(n))"
   ]
  },
  {
   "cell_type": "code",
   "execution_count": null,
   "id": "9bc9fc58",
   "metadata": {},
   "outputs": [],
   "source": [
    "def benchmark(func, *args):\n",
    "    start = time.perf_counter_ns()\n",
    "    func(*args)\n",
    "    end = time.perf_counter_ns()\n",
    "    s  = floor(( end - start)/(10**9))\n",
    "    ms = floor(((end - start)/(10**6)) - (s * (10**3)))\n",
    "    us = floor(((end - start)/(10**3))) - ((s * (10**6) + (ms * (10**3))))\n",
    "    ns = (end - start) - ((s * (10 ** 9)) + (ms * (10 ** 6)) + (us * (10 ** 3)))\n",
    "    print('\\tTook:', s, \"s,\", ms, \"ms,\", us, \"us,\", ns, \"ns\")\n",
    "\n",
    "benchmark(print, \"hello\", \"goodbye\", 1, 2, 3, 4, 5)"
   ]
  }
 ],
 "metadata": {
  "kernelspec": {
   "display_name": "Python 3",
   "language": "python",
   "name": "python3"
  },
  "language_info": {
   "codemirror_mode": {
    "name": "ipython",
    "version": 2
   },
   "file_extension": ".py",
   "mimetype": "text/x-python",
   "name": "python",
   "nbconvert_exporter": "python",
   "pygments_lexer": "ipython2",
   "version": "2.7.6"
  }
 },
 "nbformat": 4,
 "nbformat_minor": 5
}
