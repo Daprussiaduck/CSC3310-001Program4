{
 "cells": [
  {
   "cell_type": "markdown",
   "id": "22d12b8b8b83ccd3",
   "metadata": {
    "collapsed": false
   },
   "source": [
    "Patrick Marshall and Harry Kubiak\n",
    "\n",
    "Algorithms and Advanced Data Structures\n",
    "\n",
    "Program IV - Benchmarking Heaps\n",
    "\n",
    "29 March 2024"
   ]
  },
  {
   "cell_type": "code",
   "execution_count": 1,
   "id": "73e71f6d182e6fe",
   "metadata": {
    "ExecuteTime": {
     "end_time": "2024-03-29T14:37:59.043294Z",
     "start_time": "2024-03-29T14:37:58.715840300Z"
    },
    "collapsed": false
   },
   "outputs": [],
   "source": [
    "# Imports\n",
    "from math import floor\n",
    "import numpy as np\n",
    "import random\n",
    "import heapq\n",
    "import time"
   ]
  },
  {
   "cell_type": "code",
   "execution_count": 2,
   "id": "70f3ec869412cfdb",
   "metadata": {
    "ExecuteTime": {
     "end_time": "2024-03-29T14:38:01.209943100Z",
     "start_time": "2024-03-29T14:38:01.190770400Z"
    },
    "collapsed": false
   },
   "outputs": [],
   "source": [
    "def sorted_data(n):\n",
    "    if n == 1:\n",
    "        return [1]\n",
    "    return np.arange(1, n).tolist()"
   ]
  },
  {
   "cell_type": "code",
   "execution_count": 3,
   "id": "6d4dc5af10f65053",
   "metadata": {
    "ExecuteTime": {
     "end_time": "2024-03-29T14:38:06.858052900Z",
     "start_time": "2024-03-29T14:38:06.840815800Z"
    },
    "collapsed": false
   },
   "outputs": [],
   "source": [
    "def random_data(n):\n",
    "    data = [random.randint(1, n) for i in range(n)]\n",
    "    return data"
   ]
  },
  {
   "cell_type": "code",
   "execution_count": 4,
   "id": "6610a51b1d5ff9e7",
   "metadata": {
    "ExecuteTime": {
     "end_time": "2024-03-29T14:38:14.616818400Z",
     "start_time": "2024-03-29T14:38:14.599812700Z"
    },
    "collapsed": false
   },
   "outputs": [],
   "source": [
    "def reverse_data(n):\n",
    "    if n == 1:\n",
    "        return [1]\n",
    "    return np.flip(np.arange(1, n)).tolist()"
   ]
  },
  {
   "cell_type": "code",
   "execution_count": 5,
   "id": "9bc9fc58",
   "metadata": {},
   "outputs": [
    {
     "name": "stdout",
     "output_type": "stream",
     "text": [
      "hello goodbye 1 2 3 4 5\n",
      "\t\tTook: 0 s, 0 ms, 127 us, 448 ns\n"
     ]
    }
   ],
   "source": [
    "def benchmark(func, *args):\n",
    "    start = time.perf_counter_ns()\n",
    "    func(*args)\n",
    "    end = time.perf_counter_ns()\n",
    "    s  = floor(( end - start)/(10**9))\n",
    "    ms = floor(((end - start)/(10**6)) - (s * (10**3)))\n",
    "    us = floor(((end - start)/(10**3))) - ((s * (10**6) + (ms * (10**3))))\n",
    "    ns = (end - start) - ((s * (10 ** 9)) + (ms * (10 ** 6)) + (us * (10 ** 3)))\n",
    "    print('\\t\\tTook:', s, \"s,\", ms, \"ms,\", us, \"us,\", ns, \"ns\")\n",
    "\n",
    "benchmark(print, \"hello\", \"goodbye\", 1, 2, 3, 4, 5)"
   ]
  },
  {
   "cell_type": "code",
   "execution_count": 6,
   "id": "e7720e33",
   "metadata": {},
   "outputs": [
    {
     "name": "stdout",
     "output_type": "stream",
     "text": [
      "For 1 elements:\n",
      "\tSorted Data, Known Smaller:\n",
      "\t\tTook: 0 s, 0 ms, 1 us, 222 ns\n",
      "\tSorted Data, Known Larger:\n",
      "\t\tTook: 0 s, 0 ms, 0 us, 470 ns\n",
      "\tSorted Data, Random:\n",
      "\t\tTook: 0 s, 0 ms, 0 us, 380 ns\n",
      "For 10 elements:\n",
      "\tSorted Data, Known Smaller:\n",
      "\t\tTook: 0 s, 0 ms, 0 us, 631 ns\n",
      "\tSorted Data, Known Larger:\n",
      "\t\tTook: 0 s, 0 ms, 0 us, 341 ns\n",
      "\tSorted Data, Random:\n",
      "\t\tTook: 0 s, 0 ms, 0 us, 420 ns\n",
      "For 100 elements:\n",
      "\tSorted Data, Known Smaller:\n",
      "\t\tTook: 0 s, 0 ms, 1 us, 613 ns\n",
      "\tSorted Data, Known Larger:\n",
      "\t\tTook: 0 s, 0 ms, 0 us, 330 ns\n",
      "\tSorted Data, Random:\n",
      "\t\tTook: 0 s, 0 ms, 0 us, 410 ns\n",
      "For 1000 elements:\n",
      "\tSorted Data, Known Smaller:\n",
      "\t\tTook: 0 s, 0 ms, 0 us, 842 ns\n",
      "\tSorted Data, Known Larger:\n",
      "\t\tTook: 0 s, 0 ms, 0 us, 420 ns\n",
      "\tSorted Data, Random:\n",
      "\t\tTook: 0 s, 0 ms, 0 us, 391 ns\n",
      "For 10000 elements:\n",
      "\tSorted Data, Known Smaller:\n",
      "\t\tTook: 0 s, 0 ms, 8 us, 616 ns\n",
      "\tSorted Data, Known Larger:\n",
      "\t\tTook: 0 s, 0 ms, 0 us, 281 ns\n",
      "\tSorted Data, Random:\n",
      "\t\tTook: 0 s, 0 ms, 0 us, 521 ns\n",
      "For 100000 elements:\n",
      "\tSorted Data, Known Smaller:\n",
      "\t\tTook: 0 s, 0 ms, 16 us, 611 ns\n",
      "\tSorted Data, Known Larger:\n",
      "\t\tTook: 0 s, 0 ms, 0 us, 421 ns\n",
      "\tSorted Data, Random:\n",
      "\t\tTook: 0 s, 0 ms, 0 us, 270 ns\n",
      "For 1000000 elements:\n",
      "\tSorted Data, Known Smaller:\n",
      "\t\tTook: 0 s, 0 ms, 15 us, 348 ns\n",
      "\tSorted Data, Known Larger:\n",
      "\t\tTook: 0 s, 0 ms, 0 us, 531 ns\n",
      "\tSorted Data, Random:\n",
      "\t\tTook: 0 s, 0 ms, 0 us, 361 ns\n",
      "For 10000000 elements:\n",
      "\tSorted Data, Known Smaller:\n",
      "\t\tTook: 0 s, 0 ms, 21 us, 761 ns\n",
      "\tSorted Data, Known Larger:\n",
      "\t\tTook: 0 s, 0 ms, 0 us, 390 ns\n",
      "\tSorted Data, Random:\n",
      "\t\tTook: 0 s, 0 ms, 0 us, 401 ns\n",
      "For 100000000 elements:\n",
      "\tSorted Data, Known Smaller:\n",
      "\t\tTook: 0 s, 0 ms, 20 us, 458 ns\n",
      "\tSorted Data, Known Larger:\n",
      "\t\tTook: 0 s, 0 ms, 0 us, 321 ns\n",
      "\tSorted Data, Random:\n",
      "\t\tTook: 0 s, 0 ms, 0 us, 250 ns\n"
     ]
    }
   ],
   "source": [
    "# heapq.heappush\n",
    "for i in range(9):\n",
    "    print(\"For \" + str(10**i) + \" elements:\")\n",
    "    print(\"\\tSorted Data, Known Smaller:\")\n",
    "    sorted = sorted_data(10 ** i)\n",
    "    heapq.heapify(sorted)\n",
    "    sorted2 = sorted\n",
    "    sorted3 = sorted\n",
    "    benchmark(heapq.heappush, sorted, 1)\n",
    "    print(\"\\tSorted Data, Known Larger:\")\n",
    "    benchmark(heapq.heappush, sorted2, (10 ** (i + 1)))\n",
    "    print(\"\\tSorted Data, Random:\")\n",
    "    benchmark(heapq.heappush, sorted3, random.randint(0, 10 ** i))"
   ]
  },
  {
   "cell_type": "code",
   "execution_count": 7,
   "id": "e2275aeb",
   "metadata": {},
   "outputs": [
    {
     "name": "stdout",
     "output_type": "stream",
     "text": [
      "For 1 elements:\n",
      "\tSorted Data:\n",
      "\t\tTook: 0 s, 0 ms, 1 us, 282 ns\n",
      "For 10 elements:\n",
      "\tSorted Data:\n",
      "\t\tTook: 0 s, 0 ms, 0 us, 671 ns\n",
      "For 100 elements:\n",
      "\tSorted Data:\n",
      "\t\tTook: 0 s, 0 ms, 0 us, 461 ns\n",
      "For 1000 elements:\n",
      "\tSorted Data:\n",
      "\t\tTook: 0 s, 0 ms, 0 us, 661 ns\n",
      "For 10000 elements:\n",
      "\tSorted Data:\n",
      "\t\tTook: 0 s, 0 ms, 1 us, 202 ns\n",
      "For 100000 elements:\n",
      "\tSorted Data:\n",
      "\t\tTook: 0 s, 0 ms, 2 us, 706 ns\n",
      "For 1000000 elements:\n",
      "\tSorted Data:\n",
      "\t\tTook: 0 s, 0 ms, 4 us, 478 ns\n",
      "For 10000000 elements:\n",
      "\tSorted Data:\n",
      "\t\tTook: 0 s, 0 ms, 3 us, 687 ns\n",
      "For 100000000 elements:\n",
      "\tSorted Data:\n",
      "\t\tTook: 0 s, 0 ms, 3 us, 757 ns\n"
     ]
    }
   ],
   "source": [
    "# heapq.heappop\n",
    "for i in range(9):\n",
    "    print(\"For \" + str(10**i) + \" elements:\")\n",
    "    print(\"\\tSorted Data:\")\n",
    "    sorted = sorted_data(10 ** i)\n",
    "    heapq.heapify(sorted)\n",
    "    benchmark(heapq.heappop, sorted)"
   ]
  },
  {
   "cell_type": "code",
   "execution_count": 8,
   "id": "3d20ded7",
   "metadata": {},
   "outputs": [
    {
     "name": "stdout",
     "output_type": "stream",
     "text": [
      "For 1 elements:\n",
      "\tSorted Data:\n",
      "\t\tTook: 0 s, 0 ms, 0 us, 992 ns\n",
      "\tReverse Data:\n",
      "\t\tTook: 0 s, 0 ms, 0 us, 230 ns\n",
      "\tRandom Data:\n",
      "\t\tTook: 0 s, 0 ms, 0 us, 221 ns\n",
      "For 10 elements:\n",
      "\tSorted Data:\n",
      "\t\tTook: 0 s, 0 ms, 0 us, 932 ns\n",
      "\tReverse Data:\n",
      "\t\tTook: 0 s, 0 ms, 0 us, 922 ns\n",
      "\tRandom Data:\n",
      "\t\tTook: 0 s, 0 ms, 0 us, 691 ns\n",
      "For 100 elements:\n",
      "\tSorted Data:\n",
      "\t\tTook: 0 s, 0 ms, 3 us, 246 ns\n",
      "\tReverse Data:\n",
      "\t\tTook: 0 s, 0 ms, 2 us, 505 ns\n",
      "\tRandom Data:\n",
      "\t\tTook: 0 s, 0 ms, 3 us, 486 ns\n",
      "For 1000 elements:\n",
      "\tSorted Data:\n",
      "\t\tTook: 0 s, 0 ms, 25 us, 187 ns\n",
      "\tReverse Data:\n",
      "\t\tTook: 0 s, 0 ms, 19 us, 367 ns\n",
      "\tRandom Data:\n",
      "\t\tTook: 0 s, 0 ms, 30 us, 156 ns\n",
      "For 10000 elements:\n",
      "\tSorted Data:\n",
      "\t\tTook: 0 s, 0 ms, 302 us, 976 ns\n",
      "\tReverse Data:\n",
      "\t\tTook: 0 s, 0 ms, 223 us, 347 ns\n",
      "\tRandom Data:\n",
      "\t\tTook: 0 s, 0 ms, 360 us, 273 ns\n",
      "For 100000 elements:\n",
      "\tSorted Data:\n",
      "\t\tTook: 0 s, 3 ms, 716 us, 191 ns\n",
      "\tReverse Data:\n",
      "\t\tTook: 0 s, 3 ms, 524 us, 392 ns\n",
      "\tRandom Data:\n",
      "\t\tTook: 0 s, 5 ms, 299 us, 548 ns\n",
      "For 1000000 elements:\n",
      "\tSorted Data:\n",
      "\t\tTook: 0 s, 29 ms, 19 us, 923 ns\n",
      "\tReverse Data:\n",
      "\t\tTook: 0 s, 27 ms, 271 us, 698 ns\n",
      "\tRandom Data:\n",
      "\t\tTook: 0 s, 37 ms, 676 us, 592 ns\n",
      "For 10000000 elements:\n",
      "\tSorted Data:\n",
      "\t\tTook: 0 s, 280 ms, 588 us, 330 ns\n",
      "\tReverse Data:\n",
      "\t\tTook: 0 s, 291 ms, 866 us, 405 ns\n",
      "\tRandom Data:\n",
      "\t\tTook: 0 s, 339 ms, 180 us, 834 ns\n",
      "For 100000000 elements:\n",
      "\tSorted Data:\n",
      "\t\tTook: 2 s, 865 ms, 918 us, 435 ns\n",
      "\tReverse Data:\n",
      "\t\tTook: 2 s, 174 ms, 778 us, 682 ns\n",
      "\tRandom Data:\n",
      "\t\tTook: 3 s, 364 ms, 854 us, 449 ns\n"
     ]
    }
   ],
   "source": [
    "# heapq.heapify\n",
    "for i in range(9):\n",
    "    print(\"For \" + str(10**i) + \" elements:\")\n",
    "    print(\"\\tSorted Data:\")\n",
    "    benchmark(heapq.heapify, sorted_data(10 ** i))\n",
    "    print(\"\\tReverse Data:\")\n",
    "    benchmark(heapq.heapify, reverse_data(10 ** i))\n",
    "    print(\"\\tRandom Data:\")\n",
    "    benchmark(heapq.heapify, random_data(10 ** i))"
   ]
  },
  {
   "cell_type": "code",
   "execution_count": 9,
   "id": "80fcb5e5",
   "metadata": {},
   "outputs": [
    {
     "name": "stdout",
     "output_type": "stream",
     "text": [
      "For 1 elements:\n",
      "\tSorted Data, Known Smaller:\n",
      "\t\tTook: 0 s, 0 ms, 3 us, 126 ns\n",
      "\tSorted Data, Known Larger:\n",
      "\t\tTook: 0 s, 0 ms, 0 us, 401 ns\n",
      "\tSorted Data, Random:\n",
      "\t\tTook: 0 s, 0 ms, 0 us, 431 ns\n",
      "For 10 elements:\n",
      "\tSorted Data, Known Smaller:\n",
      "\t\tTook: 0 s, 0 ms, 1 us, 673 ns\n",
      "\tSorted Data, Known Larger:\n",
      "\t\tTook: 0 s, 0 ms, 0 us, 561 ns\n",
      "\tSorted Data, Random:\n",
      "\t\tTook: 0 s, 0 ms, 0 us, 641 ns\n",
      "For 100 elements:\n",
      "\tSorted Data, Known Smaller:\n",
      "\t\tTook: 0 s, 0 ms, 0 us, 972 ns\n",
      "\tSorted Data, Known Larger:\n",
      "\t\tTook: 0 s, 0 ms, 0 us, 661 ns\n",
      "\tSorted Data, Random:\n",
      "\t\tTook: 0 s, 0 ms, 0 us, 702 ns\n",
      "For 1000 elements:\n",
      "\tSorted Data, Known Smaller:\n",
      "\t\tTook: 0 s, 0 ms, 0 us, 912 ns\n",
      "\tSorted Data, Known Larger:\n",
      "\t\tTook: 0 s, 0 ms, 0 us, 651 ns\n",
      "\tSorted Data, Random:\n",
      "\t\tTook: 0 s, 0 ms, 0 us, 791 ns\n",
      "For 10000 elements:\n",
      "\tSorted Data, Known Smaller:\n",
      "\t\tTook: 0 s, 0 ms, 3 us, 106 ns\n",
      "\tSorted Data, Known Larger:\n",
      "\t\tTook: 0 s, 0 ms, 0 us, 571 ns\n",
      "\tSorted Data, Random:\n",
      "\t\tTook: 0 s, 0 ms, 0 us, 681 ns\n",
      "For 100000 elements:\n",
      "\tSorted Data, Known Smaller:\n",
      "\t\tTook: 0 s, 0 ms, 2 us, 605 ns\n",
      "\tSorted Data, Known Larger:\n",
      "\t\tTook: 0 s, 0 ms, 0 us, 771 ns\n",
      "\tSorted Data, Random:\n",
      "\t\tTook: 0 s, 0 ms, 1 us, 523 ns\n",
      "For 1000000 elements:\n",
      "\tSorted Data, Known Smaller:\n",
      "\t\tTook: 0 s, 0 ms, 4 us, 879 ns\n",
      "\tSorted Data, Known Larger:\n",
      "\t\tTook: 0 s, 0 ms, 0 us, 601 ns\n",
      "\tSorted Data, Random:\n",
      "\t\tTook: 0 s, 0 ms, 3 us, 256 ns\n",
      "For 10000000 elements:\n",
      "\tSorted Data, Known Smaller:\n",
      "\t\tTook: 0 s, 0 ms, 11 us, 642 ns\n",
      "\tSorted Data, Known Larger:\n",
      "\t\tTook: 0 s, 0 ms, 1 us, 282 ns\n",
      "\tSorted Data, Random:\n",
      "\t\tTook: 0 s, 0 ms, 6 us, 132 ns\n",
      "For 100000000 elements:\n",
      "\tSorted Data, Known Smaller:\n",
      "\t\tTook: 0 s, 0 ms, 12 us, 323 ns\n",
      "\tSorted Data, Known Larger:\n",
      "\t\tTook: 0 s, 0 ms, 1 us, 453 ns\n",
      "\tSorted Data, Random:\n",
      "\t\tTook: 0 s, 0 ms, 8 us, 596 ns\n"
     ]
    }
   ],
   "source": [
    "# heapq.heapreplace\n",
    "for i in range(9):\n",
    "    print(\"For \" + str(10**i) + \" elements:\")\n",
    "    print(\"\\tSorted Data, Known Smaller:\")\n",
    "    sorted = sorted_data(10 ** i)\n",
    "    heapq.heapify(sorted)\n",
    "    sorted2 = sorted\n",
    "    sorted3 = sorted\n",
    "    benchmark(heapq.heapreplace, sorted, -1)\n",
    "    print(\"\\tSorted Data, Known Larger:\")\n",
    "    benchmark(heapq.heapreplace, sorted2, (10 ** (i + 1)))\n",
    "    print(\"\\tSorted Data, Random:\")\n",
    "    benchmark(heapq.heapreplace, sorted3, random.randint(0,10 ** i))"
   ]
  }
 ],
 "metadata": {
  "kernelspec": {
   "display_name": "Python 3",
   "language": "python",
   "name": "python3"
  },
  "language_info": {
   "codemirror_mode": {
    "name": "ipython",
    "version": 3
   },
   "file_extension": ".py",
   "mimetype": "text/x-python",
   "name": "python",
   "nbconvert_exporter": "python",
   "pygments_lexer": "ipython3",
   "version": "3.11.7"
  }
 },
 "nbformat": 4,
 "nbformat_minor": 5
}
